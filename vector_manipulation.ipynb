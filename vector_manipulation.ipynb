{
 "cells": [
  {
   "cell_type": "markdown",
   "metadata": {},
   "source": [
    "# Vector Manipulation in Machine Translation\n",
    "\n",
    "Machine Translation often involves the use of **word embeddings**, which are vector representations of words. These vectors capture semantic information about the words, and their manipulation plays a crucial role in Machine Translation.\n",
    "\n",
    "## Techniques\n",
    "\n",
    "1. **Vector Addition and Subtraction**: This is used to find semantic equivalents. For example, the result of the vector equation \"King\" - \"Man\" + \"Woman\" is close to \"Queen\".\n",
    "\n",
    "2. **Cosine Similarity**: This measures the cosine of the angle between two vectors. It's used to determine how similar the meanings of two words are.\n",
    "\n",
    "3. **Translation Matrix**: In cross-lingual tasks, a matrix is learned that can translate word vectors from one language to another."
   ]
  },
  {
   "cell_type": "code",
   "execution_count": 1,
   "metadata": {},
   "outputs": [],
   "source": [
    "import spacy\n",
    "import numpy as np\n",
    "import matplotlib.pyplot as plt"
   ]
  },
  {
   "cell_type": "markdown",
   "metadata": {},
   "source": [
    "## Vector Addition and Subtraction\n",
    "\n",
    "In the context of word embeddings, **vector addition and subtraction** can be used to find semantic equivalents. This is based on the principle that vectors in the embedding space capture the semantic relationships between words.\n",
    "\n",
    "Consider the example of the vector equation \"King\" - \"Man\" + \"Woman\". The result of this equation is a vector that is close to the vector for \"Queen\". This demonstrates that the vector space has effectively captured the gender relationship between these words."
   ]
  },
  {
   "cell_type": "code",
   "execution_count": 2,
   "metadata": {},
   "outputs": [
    {
     "name": "stdout",
     "output_type": "stream",
     "text": [
      "Collecting en-core-web-lg==3.7.1\n",
      "  Downloading https://github.com/explosion/spacy-models/releases/download/en_core_web_lg-3.7.1/en_core_web_lg-3.7.1-py3-none-any.whl (587.7 MB)\n",
      "\u001b[2K     \u001b[90m━━━━━━━━━━━━━━━━━━━━━━━━━━━━━━━━━━━━━━━\u001b[0m \u001b[32m587.7/587.7 MB\u001b[0m \u001b[31m8.3 MB/s\u001b[0m eta \u001b[36m0:00:00\u001b[0m00:01\u001b[0m00:01\u001b[0m\n",
      "\u001b[?25hRequirement already satisfied: spacy<3.8.0,>=3.7.2 in /home/oneadmin/anaconda3/envs/packt_nlp_natural_language_processing_in_python_for_beginners/lib/python3.10/site-packages (from en-core-web-lg==3.7.1) (3.7.2)\n",
      "Requirement already satisfied: spacy-legacy<3.1.0,>=3.0.11 in /home/oneadmin/anaconda3/envs/packt_nlp_natural_language_processing_in_python_for_beginners/lib/python3.10/site-packages (from spacy<3.8.0,>=3.7.2->en-core-web-lg==3.7.1) (3.0.12)\n",
      "Requirement already satisfied: spacy-loggers<2.0.0,>=1.0.0 in /home/oneadmin/anaconda3/envs/packt_nlp_natural_language_processing_in_python_for_beginners/lib/python3.10/site-packages (from spacy<3.8.0,>=3.7.2->en-core-web-lg==3.7.1) (1.0.5)\n",
      "Requirement already satisfied: murmurhash<1.1.0,>=0.28.0 in /home/oneadmin/anaconda3/envs/packt_nlp_natural_language_processing_in_python_for_beginners/lib/python3.10/site-packages (from spacy<3.8.0,>=3.7.2->en-core-web-lg==3.7.1) (1.0.10)\n",
      "Requirement already satisfied: cymem<2.1.0,>=2.0.2 in /home/oneadmin/anaconda3/envs/packt_nlp_natural_language_processing_in_python_for_beginners/lib/python3.10/site-packages (from spacy<3.8.0,>=3.7.2->en-core-web-lg==3.7.1) (2.0.8)\n",
      "Requirement already satisfied: preshed<3.1.0,>=3.0.2 in /home/oneadmin/anaconda3/envs/packt_nlp_natural_language_processing_in_python_for_beginners/lib/python3.10/site-packages (from spacy<3.8.0,>=3.7.2->en-core-web-lg==3.7.1) (3.0.9)\n",
      "Requirement already satisfied: thinc<8.3.0,>=8.1.8 in /home/oneadmin/anaconda3/envs/packt_nlp_natural_language_processing_in_python_for_beginners/lib/python3.10/site-packages (from spacy<3.8.0,>=3.7.2->en-core-web-lg==3.7.1) (8.2.2)\n",
      "Requirement already satisfied: wasabi<1.2.0,>=0.9.1 in /home/oneadmin/anaconda3/envs/packt_nlp_natural_language_processing_in_python_for_beginners/lib/python3.10/site-packages (from spacy<3.8.0,>=3.7.2->en-core-web-lg==3.7.1) (1.1.2)\n",
      "Requirement already satisfied: srsly<3.0.0,>=2.4.3 in /home/oneadmin/anaconda3/envs/packt_nlp_natural_language_processing_in_python_for_beginners/lib/python3.10/site-packages (from spacy<3.8.0,>=3.7.2->en-core-web-lg==3.7.1) (2.4.8)\n",
      "Requirement already satisfied: catalogue<2.1.0,>=2.0.6 in /home/oneadmin/anaconda3/envs/packt_nlp_natural_language_processing_in_python_for_beginners/lib/python3.10/site-packages (from spacy<3.8.0,>=3.7.2->en-core-web-lg==3.7.1) (2.0.10)\n",
      "Requirement already satisfied: weasel<0.4.0,>=0.1.0 in /home/oneadmin/anaconda3/envs/packt_nlp_natural_language_processing_in_python_for_beginners/lib/python3.10/site-packages (from spacy<3.8.0,>=3.7.2->en-core-web-lg==3.7.1) (0.3.4)\n",
      "Requirement already satisfied: typer<0.10.0,>=0.3.0 in /home/oneadmin/anaconda3/envs/packt_nlp_natural_language_processing_in_python_for_beginners/lib/python3.10/site-packages (from spacy<3.8.0,>=3.7.2->en-core-web-lg==3.7.1) (0.9.0)\n",
      "Requirement already satisfied: smart-open<7.0.0,>=5.2.1 in /home/oneadmin/anaconda3/envs/packt_nlp_natural_language_processing_in_python_for_beginners/lib/python3.10/site-packages (from spacy<3.8.0,>=3.7.2->en-core-web-lg==3.7.1) (6.4.0)\n",
      "Requirement already satisfied: tqdm<5.0.0,>=4.38.0 in /home/oneadmin/anaconda3/envs/packt_nlp_natural_language_processing_in_python_for_beginners/lib/python3.10/site-packages (from spacy<3.8.0,>=3.7.2->en-core-web-lg==3.7.1) (4.66.1)\n",
      "Requirement already satisfied: requests<3.0.0,>=2.13.0 in /home/oneadmin/anaconda3/envs/packt_nlp_natural_language_processing_in_python_for_beginners/lib/python3.10/site-packages (from spacy<3.8.0,>=3.7.2->en-core-web-lg==3.7.1) (2.31.0)\n",
      "Requirement already satisfied: pydantic!=1.8,!=1.8.1,<3.0.0,>=1.7.4 in /home/oneadmin/anaconda3/envs/packt_nlp_natural_language_processing_in_python_for_beginners/lib/python3.10/site-packages (from spacy<3.8.0,>=3.7.2->en-core-web-lg==3.7.1) (2.5.2)\n",
      "Requirement already satisfied: jinja2 in /home/oneadmin/anaconda3/envs/packt_nlp_natural_language_processing_in_python_for_beginners/lib/python3.10/site-packages (from spacy<3.8.0,>=3.7.2->en-core-web-lg==3.7.1) (3.1.2)\n",
      "Requirement already satisfied: setuptools in /home/oneadmin/anaconda3/envs/packt_nlp_natural_language_processing_in_python_for_beginners/lib/python3.10/site-packages (from spacy<3.8.0,>=3.7.2->en-core-web-lg==3.7.1) (69.0.2)\n",
      "Requirement already satisfied: packaging>=20.0 in /home/oneadmin/anaconda3/envs/packt_nlp_natural_language_processing_in_python_for_beginners/lib/python3.10/site-packages (from spacy<3.8.0,>=3.7.2->en-core-web-lg==3.7.1) (23.2)\n",
      "Requirement already satisfied: langcodes<4.0.0,>=3.2.0 in /home/oneadmin/anaconda3/envs/packt_nlp_natural_language_processing_in_python_for_beginners/lib/python3.10/site-packages (from spacy<3.8.0,>=3.7.2->en-core-web-lg==3.7.1) (3.3.0)\n",
      "Requirement already satisfied: numpy>=1.19.0 in /home/oneadmin/anaconda3/envs/packt_nlp_natural_language_processing_in_python_for_beginners/lib/python3.10/site-packages (from spacy<3.8.0,>=3.7.2->en-core-web-lg==3.7.1) (1.26.2)\n",
      "Requirement already satisfied: annotated-types>=0.4.0 in /home/oneadmin/anaconda3/envs/packt_nlp_natural_language_processing_in_python_for_beginners/lib/python3.10/site-packages (from pydantic!=1.8,!=1.8.1,<3.0.0,>=1.7.4->spacy<3.8.0,>=3.7.2->en-core-web-lg==3.7.1) (0.6.0)\n",
      "Requirement already satisfied: pydantic-core==2.14.5 in /home/oneadmin/anaconda3/envs/packt_nlp_natural_language_processing_in_python_for_beginners/lib/python3.10/site-packages (from pydantic!=1.8,!=1.8.1,<3.0.0,>=1.7.4->spacy<3.8.0,>=3.7.2->en-core-web-lg==3.7.1) (2.14.5)\n",
      "Requirement already satisfied: typing-extensions>=4.6.1 in /home/oneadmin/anaconda3/envs/packt_nlp_natural_language_processing_in_python_for_beginners/lib/python3.10/site-packages (from pydantic!=1.8,!=1.8.1,<3.0.0,>=1.7.4->spacy<3.8.0,>=3.7.2->en-core-web-lg==3.7.1) (4.9.0)\n",
      "Requirement already satisfied: charset-normalizer<4,>=2 in /home/oneadmin/anaconda3/envs/packt_nlp_natural_language_processing_in_python_for_beginners/lib/python3.10/site-packages (from requests<3.0.0,>=2.13.0->spacy<3.8.0,>=3.7.2->en-core-web-lg==3.7.1) (3.3.2)\n",
      "Requirement already satisfied: idna<4,>=2.5 in /home/oneadmin/anaconda3/envs/packt_nlp_natural_language_processing_in_python_for_beginners/lib/python3.10/site-packages (from requests<3.0.0,>=2.13.0->spacy<3.8.0,>=3.7.2->en-core-web-lg==3.7.1) (3.6)\n",
      "Requirement already satisfied: urllib3<3,>=1.21.1 in /home/oneadmin/anaconda3/envs/packt_nlp_natural_language_processing_in_python_for_beginners/lib/python3.10/site-packages (from requests<3.0.0,>=2.13.0->spacy<3.8.0,>=3.7.2->en-core-web-lg==3.7.1) (2.0.7)\n",
      "Requirement already satisfied: certifi>=2017.4.17 in /home/oneadmin/anaconda3/envs/packt_nlp_natural_language_processing_in_python_for_beginners/lib/python3.10/site-packages (from requests<3.0.0,>=2.13.0->spacy<3.8.0,>=3.7.2->en-core-web-lg==3.7.1) (2023.11.17)\n",
      "Requirement already satisfied: blis<0.8.0,>=0.7.8 in /home/oneadmin/anaconda3/envs/packt_nlp_natural_language_processing_in_python_for_beginners/lib/python3.10/site-packages (from thinc<8.3.0,>=8.1.8->spacy<3.8.0,>=3.7.2->en-core-web-lg==3.7.1) (0.7.11)\n",
      "Requirement already satisfied: confection<1.0.0,>=0.0.1 in /home/oneadmin/anaconda3/envs/packt_nlp_natural_language_processing_in_python_for_beginners/lib/python3.10/site-packages (from thinc<8.3.0,>=8.1.8->spacy<3.8.0,>=3.7.2->en-core-web-lg==3.7.1) (0.1.4)\n",
      "Requirement already satisfied: click<9.0.0,>=7.1.1 in /home/oneadmin/anaconda3/envs/packt_nlp_natural_language_processing_in_python_for_beginners/lib/python3.10/site-packages (from typer<0.10.0,>=0.3.0->spacy<3.8.0,>=3.7.2->en-core-web-lg==3.7.1) (8.1.7)\n",
      "Requirement already satisfied: cloudpathlib<0.17.0,>=0.7.0 in /home/oneadmin/anaconda3/envs/packt_nlp_natural_language_processing_in_python_for_beginners/lib/python3.10/site-packages (from weasel<0.4.0,>=0.1.0->spacy<3.8.0,>=3.7.2->en-core-web-lg==3.7.1) (0.16.0)\n",
      "Requirement already satisfied: MarkupSafe>=2.0 in /home/oneadmin/anaconda3/envs/packt_nlp_natural_language_processing_in_python_for_beginners/lib/python3.10/site-packages (from jinja2->spacy<3.8.0,>=3.7.2->en-core-web-lg==3.7.1) (2.1.3)\n",
      "Installing collected packages: en-core-web-lg\n",
      "Successfully installed en-core-web-lg-3.7.1\n",
      "\u001b[38;5;2m✔ Download and installation successful\u001b[0m\n",
      "You can now load the package via spacy.load('en_core_web_lg')\n"
     ]
    }
   ],
   "source": [
    "# Download the model if necessary\n",
    "if not spacy.util.is_package(\"en_core_web_lg\"):\n",
    "    spacy.cli.download(\"en_core_web_lg\")\n",
    "    \n",
    "# Load the model\n",
    "nlp = spacy.load(\"en_core_web_lg\")"
   ]
  },
  {
   "cell_type": "code",
   "execution_count": 3,
   "metadata": {},
   "outputs": [],
   "source": [
    "# Get the vectors for \"king\", \"man\" and \"woman\"\n",
    "king = nlp(\"king\").vector\n",
    "man = nlp(\"man\").vector\n",
    "woman = nlp(\"woman\").vector"
   ]
  },
  {
   "cell_type": "code",
   "execution_count": 4,
   "metadata": {},
   "outputs": [],
   "source": [
    "# Perform the calculation\n",
    "result_vector = king - man + woman"
   ]
  },
  {
   "cell_type": "code",
   "execution_count": 5,
   "metadata": {},
   "outputs": [],
   "source": [
    "# Find the closest vectors in the vocabulary to the result vector\n",
    "similar_words = nlp.vocab.vectors.most_similar(\n",
    "    result_vector.reshape(1, 300), n=20\n",
    ")"
   ]
  },
  {
   "cell_type": "code",
   "execution_count": 6,
   "metadata": {},
   "outputs": [
    {
     "name": "stdout",
     "output_type": "stream",
     "text": [
      "king\n",
      "kings\n",
      "princes\n",
      "consort\n",
      "princeling\n",
      "monarch\n",
      "princelings\n",
      "princesses\n",
      "prince\n",
      "kingship\n",
      "princess\n",
      "ruler\n",
      "consorts\n",
      "kingi\n",
      "princedom\n",
      "rulers\n",
      "kingii\n",
      "enthronement\n",
      "monarchical\n",
      "queen\n"
     ]
    }
   ],
   "source": [
    "for word in similar_words[0][0]:\n",
    "    print(nlp.vocab.strings[word])"
   ]
  },
  {
   "cell_type": "markdown",
   "metadata": {},
   "source": [
    "## Cosine Similarity\n",
    "\n",
    "**Cosine similarity** is a measure of similarity between two non-zero vectors of an inner product space. It is defined to equal the cosine of the angle between them, which is also the same as the inner product of the same vectors normalized to both have length 1.\n",
    "\n",
    "In the context of word embeddings, cosine similarity can be used to determine how similar the meanings of two words are. The cosine similarity is a number between -1 and 1. When the cosine similarity is close to 1, the angle between the vectors is small, which means the words are semantically similar.\n",
    "\n",
    "Here's a Python code snippet demonstrating how to calculate cosine similarity:"
   ]
  },
  {
   "cell_type": "code",
   "execution_count": 7,
   "metadata": {},
   "outputs": [],
   "source": [
    "def cosine_similarity(a, b):\n",
    "    # Compute the dot product of véctors a and b\n",
    "    dot_product = np.dot(a, b)\n",
    "    \n",
    "    # Compute the L2 norm of vector a\n",
    "    norm_a = np.linalg.norm(a)\n",
    "    \n",
    "    # Compute the L2 norm of vector b\n",
    "    norm_b = np.linalg.norm(b)\n",
    "    \n",
    "    # Compute the cosine similarity\n",
    "    cosine_similarity = dot_product / (norm_a * norm_b)\n",
    "    \n",
    "    return cosine_similarity"
   ]
  },
  {
   "cell_type": "code",
   "execution_count": 8,
   "metadata": {},
   "outputs": [],
   "source": [
    "# Define three vectors\n",
    "vec1 = np.array([1, 0])  # Vector along x-axis\n",
    "vec2 = np.array([0, 1])  # Vector along y-axis, cosine similarity with vec1 is 0\n",
    "vec3 = np.array([-1, 0])  # Vector in opposite direction to vec1, cosine similarity with vec1 is -1\n",
    "vec4 = np.array([1, 1])  # Vector at 45 degrees to vec1, cosine similarity with vec1 is > 0"
   ]
  },
  {
   "cell_type": "code",
   "execution_count": 10,
   "metadata": {},
   "outputs": [
    {
     "data": {
      "image/png": "[encoded data removed]",
      "text/plain": [
       "<Figure size 800x800 with 1 Axes>"
      ]
     },
     "metadata": {},
     "output_type": "display_data"
    }
   ],
   "source": [
    "# Plot the vectors\n",
    "plt.figure(figsize=(8, 8))\n",
    "plt.quiver(0, 0, vec1[0], vec1[1], angles='xy', scale_units='xy', scale=1, color='r', label='vec1')\n",
    "plt.quiver(0, 0, vec2[0], vec2[1], angles='xy', scale_units='xy', scale=1, color='g', label='vec2 (cosine similarity with vec1 = 0)')\n",
    "plt.quiver(0, 0, vec3[0], vec3[1], angles='xy', scale_units='xy', scale=1, color='b', label='vec3 (cosine similarity with vec1 < 0)')\n",
    "plt.quiver(0, 0, vec4[0], vec4[1], angles='xy', scale_units='xy', scale=1, color='y', label='vec4 (cosine similarity with vec1 > 0)')\n",
    "\n",
    "# Set the x-limits and y-limits of the plot\n",
    "plt.xlim(-2, 2)\n",
    "plt.ylim(-2, 2)\n",
    "\n",
    "# Add a legend\n",
    "plt.legend()\n",
    "\n",
    "plt.gca().set_aspect('equal', adjustable='box')"
   ]
  },
  {
   "cell_type": "code",
   "execution_count": 11,
   "metadata": {},
   "outputs": [
    {
     "name": "stdout",
     "output_type": "stream",
     "text": [
      "Cosine similarity between vec1 and vec2: 0.0\n"
     ]
    }
   ],
   "source": [
    "# Let's compute the cosine similarity between vec1 and vec2\n",
    "print(\"Cosine similarity between vec1 and vec2:\", cosine_similarity(vec1, vec2))"
   ]
  },
  {
   "cell_type": "code",
   "execution_count": 12,
   "metadata": {},
   "outputs": [
    {
     "name": "stdout",
     "output_type": "stream",
     "text": [
      "Cosine similarity between vec1 and vec3: -1.0\n"
     ]
    }
   ],
   "source": [
    "# Let's compute the cosine similarity between vec1 and vec3\n",
    "print(\"Cosine similarity between vec1 and vec3:\", cosine_similarity(vec1, vec3))"
   ]
  },
  {
   "cell_type": "code",
   "execution_count": 13,
   "metadata": {},
   "outputs": [
    {
     "name": "stdout",
     "output_type": "stream",
     "text": [
      "Cosine similarity between vec1 and vec4: 0.7071067811865475\n"
     ]
    }
   ],
   "source": [
    "# Let's compute the cosine similarity between vec1 and vec4\n",
    "print(\"Cosine similarity between vec1 and vec4:\", cosine_similarity(vec1, vec4))"
   ]
  },
  {
   "cell_type": "markdown",
   "metadata": {},
   "source": [
    "## Translation Matrix\n",
    "\n",
    "In cross-lingual tasks, a matrix, denoted as `W`, is learned that can translate word vectors from one language to another. This is known as a Translation Matrix.\n",
    "\n",
    "The mathematical representation of this process is:\n",
    "\n",
    "$$\n",
    "W \\cdot v_{\\text{source}} = v_{\\text{target}}\n",
    "$$\n",
    "\n",
    "where:\n",
    "\n",
    "- $W$ is the translation matrix\n",
    "- $v_{\\text{source}}$ is the word vector in the source language\n",
    "- $v_{\\text{target}}$ is the word vector in the target language\n",
    "\n",
    "The goal is to find a matrix `W` that minimizes the difference between the product of `W` and the source word vector, and the target word vector. This can be represented as:\n",
    "\n",
    "$$\n",
    "\\min_W ||W \\cdot v_{\\text{source}} - v_{\\text{target}}||\n",
    "$$\n",
    "\n",
    "This optimization problem can be solved using methods such as stochastic gradient descent."
   ]
  },
  {
   "cell_type": "code",
   "execution_count": 14,
   "metadata": {},
   "outputs": [],
   "source": [
    "x = np.array([1, 1])  # our vector\n",
    "Ro = np.array([[2, 0], [0, -2]])  # our matrix"
   ]
  },
  {
   "cell_type": "markdown",
   "metadata": {},
   "source": [
    "Next, we perform the dot product of the vector and the matrix. This will give us a new vector `y`."
   ]
  },
  {
   "cell_type": "code",
   "execution_count": 15,
   "metadata": {},
   "outputs": [],
   "source": [
    "y = np.dot(x, Ro)"
   ]
  },
  {
   "cell_type": "markdown",
   "metadata": {},
   "source": [
    "In the plot, you will see that the output vector `y` is transformed into another vector."
   ]
  },
  {
   "cell_type": "code",
   "execution_count": 16,
   "metadata": {},
   "outputs": [
    {
     "data": {
      "image/png": "[encoded data removed]",
      "text/plain": [
       "<Figure size 640x480 with 1 Axes>"
      ]
     },
     "metadata": {},
     "output_type": "display_data"
    }
   ],
   "source": [
    "plt.xlim(-3, 3)\n",
    "plt.ylim(-3, 3)\n",
    "plt.quiver(0, 0, x[0], x[1], angles='xy', scale_units='xy', scale=1, color='b', label='x')\n",
    "plt.quiver(0, 0, y[0], y[1], angles='xy', scale_units='xy', scale=1, color='r', label='y')\n",
    "plt.gca().set_aspect('equal', adjustable='box')"
   ]
  },
  {
   "cell_type": "markdown",
   "metadata": {},
   "source": [
    "If you perform the dot product with a rotation matrix, the resulting vector will be the original vector rotated by the specified angle.\n",
    "\n",
    "Remember, the way a matrix modifies a vector during multiplication depends on the matrix. In this tutorial, we saw an example of a rotation matrix, but other types of matrices will modify vectors in different ways."
   ]
  },
  {
   "cell_type": "code",
   "execution_count": 21,
   "metadata": {},
   "outputs": [],
   "source": [
    "angle = 180 * (np.pi / 180)  # convert degrees to radians\n",
    "\n",
    "Ro = np.array([[np.cos(angle), -np.sin(angle)],\n",
    "              [np.sin(angle), np.cos(angle)]])\n",
    "\n",
    "y = np.dot(x, Ro)"
   ]
  },
  {
   "cell_type": "code",
   "execution_count": 22,
   "metadata": {},
   "outputs": [
    {
     "data": {
      "image/png": "[encoded data removed]",
      "text/plain": [
       "<Figure size 640x480 with 1 Axes>"
      ]
     },
     "metadata": {},
     "output_type": "display_data"
    }
   ],
   "source": [
    "plt.xlim(-2, 2)\n",
    "plt.ylim(-2, 2)\n",
    "plt.quiver(0, 0, x[0], x[1], angles='xy', scale_units='xy', scale=1, color='b', label='x')\n",
    "plt.quiver(0, 0, y[0], y[1], angles='xy', scale_units='xy', scale=1, color='r', label='y')\n",
    "plt.gca().set_aspect('equal', adjustable='box')"
   ]
  }
 ],
 "metadata": {
  "kernelspec": {
   "display_name": "ttth_natural_language_processing_teaching",
   "language": "python",
   "name": "python3"
  },
  "language_info": {
   "codemirror_mode": {
    "name": "ipython",
    "version": 3
   },
   "file_extension": ".py",
   "mimetype": "text/x-python",
   "name": "python",
   "nbconvert_exporter": "python",
   "pygments_lexer": "ipython3",
   "version": "3.10.13"
  }
 },
 "nbformat": 4,
 "nbformat_minor": 2
}
